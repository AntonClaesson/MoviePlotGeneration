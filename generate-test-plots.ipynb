{
 "cells": [
  {
   "cell_type": "markdown",
   "id": "0cba8935",
   "metadata": {},
   "source": [
    "# START\n"
   ]
  },
  {
   "cell_type": "code",
   "execution_count": 1,
   "id": "a559a305",
   "metadata": {
    "scrolled": true
   },
   "outputs": [],
   "source": [
    "import math\n",
    "import re\n",
    "import pickle\n",
    "import pandas as pd\n",
    "import matplotlib.pyplot as plt\n",
    "from tqdm.auto import tqdm\n",
    "\n",
    "import torch\n",
    "from datasets import load_dataset\n",
    "from transformers import (\n",
    "    TrainerCallback,\n",
    "    GPT2Config,\n",
    "    GPT2Tokenizer,\n",
    "    GPT2LMHeadModel,\n",
    "    AutoConfig,\n",
    "    AutoTokenizer,\n",
    "    AutoModelForCausalLM,\n",
    "    pipeline,\n",
    "    AdamW,\n",
    "    TrainingArguments,\n",
    "    Trainer,\n",
    ")"
   ]
  },
  {
   "cell_type": "code",
   "execution_count": 2,
   "id": "82b4830d",
   "metadata": {},
   "outputs": [],
   "source": [
    "# Load pretrained tokenizer and model\n",
    "finetuned_model_name = 'result_models/gpt2_ft_top_15_genres/movie-plot-generator'\n",
    "config=AutoConfig.from_pretrained(finetuned_model_name)\n",
    "tokenizer = AutoTokenizer.from_pretrained(finetuned_model_name)\n",
    "model = AutoModelForCausalLM.from_pretrained(finetuned_model_name, config=config)\n",
    "\n",
    "generator = pipeline(\"text-generation\", model=model, tokenizer=tokenizer, device=0)\n",
    "\n",
    "device = torch.device('cuda' if torch.cuda.is_available() else 'cpu')\n",
    "model=model.to(device)"
   ]
  },
  {
   "cell_type": "markdown",
   "id": "35063d51",
   "metadata": {},
   "source": [
    "### Using generator framework"
   ]
  },
  {
   "cell_type": "code",
   "execution_count": null,
   "id": "39996ad5",
   "metadata": {},
   "outputs": [],
   "source": [
    "input_ids = tokenizer.encode('<BOS> <action> The lost village <SEP>', return_tensors='pt')\n",
    "\n",
    "# set top_k = 50 and set top_p = 0.95 and num_return_sequences = 3\n",
    "\n",
    "sample_outputs = model.generate(\n",
    "    input_ids,\n",
    "    do_sample=True, \n",
    "    max_length=512, \n",
    "    top_k=50, \n",
    "    top_p=0.95, \n",
    "    num_return_sequences=3,\n",
    "    bos_token_id=tokenizer.bos_token_id,\n",
    "    pad_token_id=tokenizer.pad_token_id,\n",
    "    sep_token_id=tokenizer.sep_token_id,\n",
    "    eos_token_id=tokenizer.eos_token_id,\n",
    "    device=0\n",
    ")\n",
    "\n",
    "for i, sample_output in enumerate(sample_outputs):\n",
    "  print()\n",
    "  print(f\"{ re.sub('<PAD>','',tokenizer.decode(sample_output, skip_special_tokens=False))}\")"
   ]
  },
  {
   "cell_type": "markdown",
   "id": "d6559300",
   "metadata": {},
   "source": [
    "### Using pipeline framework"
   ]
  },
  {
   "cell_type": "code",
   "execution_count": 11,
   "id": "9e16326c",
   "metadata": {
    "scrolled": true
   },
   "outputs": [
    {
     "name": "stderr",
     "output_type": "stream",
     "text": [
      "Setting `pad_token_id` to `eos_token_id`:50256 for open-end generation.\n"
     ]
    },
    {
     "name": "stdout",
     "output_type": "stream",
     "text": [
      "<BOS> <action> The lost village <SEP> A young girl visits a local beauty fair, and she decides that there are no beauty fairs in the country anyway. She meets a handsome stranger, a famous poet. She goes there to be a poet's son. Finally she meets a rich man. He pays her a hundred dollars to attend a flower show, and she falls for the rich man. In the long run, she will become a beautiful woman and he will marry her. The plot keeps repeating as the film progresses.  June Decisions - Decisions - June 7, 1994.  Film – A series of events at the park where the girls lived in the late 1970s during the Great Depression, during which they lived in a town near Fort Greene, Indiana. In the film, they meet up with their parents on a train from Los Angeles to Detroit. They end up in a hotel in Atlanta. In the end, they meet up with their parents again. It may be the last time that they will meet up with their parents. The story starts in Los Angeles and ends in Atlanta. When the film is released, it should be stated that the characters will leave the United States and return to the United States.\n",
      "\n",
      "\n",
      "------------------------\n",
      " <BOS> <action> The lost village <SEP> The villagers return to Earth as they wait for the rain to stop, and as they wait the sun sets the land goes back to the rainy seasons. This is the ending of Mimi and her friends  and all their adventures that have ever followed Mimi and her crew. \n",
      "\n",
      "\n",
      "------------------------\n",
      " <BOS> <action> The lost village <SEP> The ghostly-aunt is haunted by the ghosts of a village friend and his dog. In her search for the source of the evil, she discovers a book to a mysterious publisher, written on the side of the road. She visits the ghost to help her find the publisher. When her friend returns with a mysterious piece of paper to her, she tries to destroy it. She tries as many things as she can and her friend is convinced to the contrary. However, her friend still wants to steal the book, and she is forced to abandon it. After this, the house changes sides.  June May 35 May 35 — November 37 — November 2010 – The end of the third novel, The End of the Third Novel. The novel is written by Brian Gough and Robert Crumb. \")\") 37 They Have No Name,They Have No Name,They Have No Name,They Have No Name,They Have No Name,They Have No Name,They Have No Name,They Have No Name,They Have No Name,They Have No Name,They Have No Name,They Have No Name,They Have No Name,They Have No Name\",They Have No Name,They Have\n",
      "\n",
      "\n",
      "------------------------\n",
      " <BOS> <action> The lost village <SEP> Thelost village is the sole survivor. Four sisters, all of whom know the secret truth about the lost village, lie in bed and lie awake drunk. One day, a strange force called \"X-Men\" arrives, claiming to be an army in America. The X-Men appear and take a look around the ruins. There, they find the mysterious statue of a dead boy and the stone statues, which have been given out across the country. They soon find the statue in the ruins where a mysterious spirit is hiding. The skeleton reveals itself to be the remains of a young boy. The remaining survivors are convinced that the X-Men were behind the destruction that had turned out to be the cult of Minotaurs...  ) )\n",
      "\n",
      "\n",
      "------------------------\n",
      "\n"
     ]
    }
   ],
   "source": [
    "stories = generator(\"<BOS> <action> The lost village <SEP>\", max_length=512, num_return_sequences=4)\n",
    "print(*[story['generated_text'] + \"\\n\\n\\n------------------------\\n\" for story in stories])"
   ]
  },
  {
   "cell_type": "markdown",
   "id": "e8d54c69",
   "metadata": {},
   "source": [
    "# Load test data"
   ]
  },
  {
   "cell_type": "code",
   "execution_count": 3,
   "id": "c379c5e7",
   "metadata": {
    "scrolled": true
   },
   "outputs": [
    {
     "name": "stderr",
     "output_type": "stream",
     "text": [
      "Using custom data configuration default-6da71f273e2fb6a7\n",
      "Reusing dataset text (C:\\Users\\Anton\\.cache\\huggingface\\datasets\\text\\default-6da71f273e2fb6a7\\0.0.0\\e16f44aa1b321ece1f87b07977cc5d70be93d69b20486d6dacd62e12cf25c9a5)\n"
     ]
    },
    {
     "data": {
      "application/vnd.jupyter.widget-view+json": {
       "model_id": "f43e14eb91d04fe9840a1f45bedd5e08",
       "version_major": 2,
       "version_minor": 0
      },
      "text/plain": [
       "HBox(children=(FloatProgress(value=0.0, max=1.0), HTML(value='')))"
      ]
     },
     "metadata": {},
     "output_type": "display_data"
    },
    {
     "name": "stdout",
     "output_type": "stream",
     "text": [
      "\n"
     ]
    },
    {
     "data": {
      "text/plain": [
       "Dataset({\n",
       "    features: ['text'],\n",
       "    num_rows: 1000\n",
       "})"
      ]
     },
     "execution_count": 3,
     "metadata": {},
     "output_type": "execute_result"
    }
   ],
   "source": [
    "# Load dataset from text file called \"data.txt\" and split into train/val\n",
    "datasets = load_dataset(\"text\", data_files=\"test.txt\")\n",
    "datasets['test'] = datasets.pop('train')\n",
    "dataset = datasets['test']\n",
    "del datasets\n",
    "dataset"
   ]
  },
  {
   "cell_type": "code",
   "execution_count": 4,
   "id": "490cccae",
   "metadata": {
    "scrolled": false
   },
   "outputs": [
    {
     "name": "stdout",
     "output_type": "stream",
     "text": [
      "<BOS> <drama> <romantic drama> <romance film> <action> Days of Thunder <SEP> \n",
      " <BOS> <romance film> Krishnagudiyil Oru Pranayakalathu <SEP> \n",
      " <BOS> <drama> <comedy> <romance film> Annie Hall <SEP> \n",
      " <BOS> <romance film> <comedy> <indie> Mighty Aphrodite <SEP> \n",
      " <BOS> <thriller> <crime fiction> Phone Booth <SEP> \n",
      " <BOS> <romantic drama> <romance film> <drama> Anna Lucasta <SEP> \n",
      " <BOS> <drama> <comedy> Meet Me Tonight <SEP> \n",
      " <BOS> <thriller> <short film> The Cat Piano <SEP> \n",
      " <BOS> <short film> <family film> Hare-Abian Nights <SEP> \n",
      " <BOS> <drama> Distant Thunder <SEP> \n",
      "\n"
     ]
    }
   ],
   "source": [
    "# Example\n",
    "print(*[dataset[i]['text'] + '\\n' for i in range(10)])"
   ]
  },
  {
   "cell_type": "code",
   "execution_count": 5,
   "id": "0230a296",
   "metadata": {},
   "outputs": [
    {
     "name": "stdout",
     "output_type": "stream",
     "text": [
      "True\n",
      "0\n",
      "<torch.cuda.device object at 0x000001BD23FDC610>\n",
      "1\n",
      "GeForce RTX 2060 SUPER\n"
     ]
    }
   ],
   "source": [
    "print(torch.cuda.is_available())\n",
    "print(torch.cuda.current_device())\n",
    "\n",
    "print(torch.cuda.device(0))\n",
    "\n",
    "print(torch.cuda.device_count())\n",
    "\n",
    "print(torch.cuda.get_device_name(0))"
   ]
  },
  {
   "cell_type": "code",
   "execution_count": 4,
   "id": "ac0ce33f",
   "metadata": {},
   "outputs": [],
   "source": [
    "def pipeline_generate_text(text_input): \n",
    "    result = generator(text_input, max_length=512, num_return_sequences=1)[0]['generated_text']\n",
    "    plot = re.sub(text_input,'',result)\n",
    "    return plot\n",
    "    \n",
    "def generate_text(text_input):\n",
    "    input_ids = tokenizer.encode(text_input, return_tensors='pt')\n",
    "    input_ids=input_ids.to(device)\n",
    "    \n",
    "    #top-k nucleus sampling\n",
    "    sample_output = model.generate(\n",
    "        input_ids,\n",
    "        do_sample=True, \n",
    "        max_length=512, \n",
    "        top_k=50, \n",
    "        top_p=0.95, \n",
    "        num_return_sequences=1,\n",
    "        bos_token_id=tokenizer.bos_token_id,\n",
    "        pad_token_id=tokenizer.pad_token_id,\n",
    "        sep_token_id=tokenizer.sep_token_id,\n",
    "        eos_token_id=tokenizer.eos_token_id,\n",
    "        device=0\n",
    "    )[0]\n",
    "    result = tokenizer.decode(sample_output, skip_special_tokens=False)\n",
    "    plot = re.sub(text_input,'',result) #remove input and EOS token\n",
    "    plot = re.sub('<EOS>','',plot) \n",
    "    return plot\n"
   ]
  },
  {
   "cell_type": "code",
   "execution_count": null,
   "id": "beafaf5e",
   "metadata": {},
   "outputs": [
    {
     "data": {
      "application/vnd.jupyter.widget-view+json": {
       "model_id": "7a4af886ec2a479fae5eef5a4bc6bec5",
       "version_major": 2,
       "version_minor": 0
      },
      "text/plain": [
       "HBox(children=(FloatProgress(value=0.0, max=1000.0), HTML(value='')))"
      ]
     },
     "metadata": {},
     "output_type": "display_data"
    },
    {
     "name": "stderr",
     "output_type": "stream",
     "text": [
      "C:\\Users\\Anton\\Anaconda3\\envs\\storygen\\lib\\site-packages\\transformers\\pipelines\\base.py:899: UserWarning: You seem to be using the pipelines sequentially on GPU. In order to maximize efficiency please use a dataset\n",
      "  warnings.warn(\n",
      "Setting `pad_token_id` to `eos_token_id`:50256 for open-end generation.\n",
      "Setting `pad_token_id` to `eos_token_id`:50256 for open-end generation.\n",
      "Setting `pad_token_id` to `eos_token_id`:50256 for open-end generation.\n",
      "Setting `pad_token_id` to `eos_token_id`:50256 for open-end generation.\n",
      "Setting `pad_token_id` to `eos_token_id`:50256 for open-end generation.\n",
      "Setting `pad_token_id` to `eos_token_id`:50256 for open-end generation.\n",
      "Setting `pad_token_id` to `eos_token_id`:50256 for open-end generation.\n",
      "Setting `pad_token_id` to `eos_token_id`:50256 for open-end generation.\n",
      "Setting `pad_token_id` to `eos_token_id`:50256 for open-end generation.\n",
      "Setting `pad_token_id` to `eos_token_id`:50256 for open-end generation.\n",
      "Setting `pad_token_id` to `eos_token_id`:50256 for open-end generation.\n",
      "Setting `pad_token_id` to `eos_token_id`:50256 for open-end generation.\n",
      "Setting `pad_token_id` to `eos_token_id`:50256 for open-end generation.\n",
      "Setting `pad_token_id` to `eos_token_id`:50256 for open-end generation.\n",
      "Setting `pad_token_id` to `eos_token_id`:50256 for open-end generation.\n",
      "Setting `pad_token_id` to `eos_token_id`:50256 for open-end generation.\n",
      "Setting `pad_token_id` to `eos_token_id`:50256 for open-end generation.\n",
      "Setting `pad_token_id` to `eos_token_id`:50256 for open-end generation.\n",
      "Setting `pad_token_id` to `eos_token_id`:50256 for open-end generation.\n",
      "Setting `pad_token_id` to `eos_token_id`:50256 for open-end generation.\n",
      "Setting `pad_token_id` to `eos_token_id`:50256 for open-end generation.\n",
      "Setting `pad_token_id` to `eos_token_id`:50256 for open-end generation.\n",
      "Setting `pad_token_id` to `eos_token_id`:50256 for open-end generation.\n",
      "Setting `pad_token_id` to `eos_token_id`:50256 for open-end generation.\n",
      "Setting `pad_token_id` to `eos_token_id`:50256 for open-end generation.\n",
      "Setting `pad_token_id` to `eos_token_id`:50256 for open-end generation.\n",
      "Setting `pad_token_id` to `eos_token_id`:50256 for open-end generation.\n",
      "Setting `pad_token_id` to `eos_token_id`:50256 for open-end generation.\n",
      "Setting `pad_token_id` to `eos_token_id`:50256 for open-end generation.\n",
      "Setting `pad_token_id` to `eos_token_id`:50256 for open-end generation.\n",
      "Setting `pad_token_id` to `eos_token_id`:50256 for open-end generation.\n",
      "Setting `pad_token_id` to `eos_token_id`:50256 for open-end generation.\n",
      "Setting `pad_token_id` to `eos_token_id`:50256 for open-end generation.\n",
      "Setting `pad_token_id` to `eos_token_id`:50256 for open-end generation.\n",
      "Setting `pad_token_id` to `eos_token_id`:50256 for open-end generation.\n",
      "Setting `pad_token_id` to `eos_token_id`:50256 for open-end generation.\n",
      "Setting `pad_token_id` to `eos_token_id`:50256 for open-end generation.\n",
      "Setting `pad_token_id` to `eos_token_id`:50256 for open-end generation.\n",
      "Setting `pad_token_id` to `eos_token_id`:50256 for open-end generation.\n",
      "Setting `pad_token_id` to `eos_token_id`:50256 for open-end generation.\n",
      "Setting `pad_token_id` to `eos_token_id`:50256 for open-end generation.\n",
      "Setting `pad_token_id` to `eos_token_id`:50256 for open-end generation.\n",
      "Setting `pad_token_id` to `eos_token_id`:50256 for open-end generation.\n",
      "Setting `pad_token_id` to `eos_token_id`:50256 for open-end generation.\n",
      "Setting `pad_token_id` to `eos_token_id`:50256 for open-end generation.\n",
      "Setting `pad_token_id` to `eos_token_id`:50256 for open-end generation.\n",
      "Setting `pad_token_id` to `eos_token_id`:50256 for open-end generation.\n",
      "Setting `pad_token_id` to `eos_token_id`:50256 for open-end generation.\n",
      "Setting `pad_token_id` to `eos_token_id`:50256 for open-end generation.\n",
      "Setting `pad_token_id` to `eos_token_id`:50256 for open-end generation.\n",
      "Setting `pad_token_id` to `eos_token_id`:50256 for open-end generation.\n",
      "Setting `pad_token_id` to `eos_token_id`:50256 for open-end generation.\n",
      "Setting `pad_token_id` to `eos_token_id`:50256 for open-end generation.\n",
      "Setting `pad_token_id` to `eos_token_id`:50256 for open-end generation.\n",
      "Setting `pad_token_id` to `eos_token_id`:50256 for open-end generation.\n",
      "Setting `pad_token_id` to `eos_token_id`:50256 for open-end generation.\n",
      "Setting `pad_token_id` to `eos_token_id`:50256 for open-end generation.\n",
      "Setting `pad_token_id` to `eos_token_id`:50256 for open-end generation.\n",
      "Setting `pad_token_id` to `eos_token_id`:50256 for open-end generation.\n",
      "Setting `pad_token_id` to `eos_token_id`:50256 for open-end generation.\n",
      "Setting `pad_token_id` to `eos_token_id`:50256 for open-end generation.\n",
      "Setting `pad_token_id` to `eos_token_id`:50256 for open-end generation.\n",
      "Setting `pad_token_id` to `eos_token_id`:50256 for open-end generation.\n",
      "Setting `pad_token_id` to `eos_token_id`:50256 for open-end generation.\n",
      "Setting `pad_token_id` to `eos_token_id`:50256 for open-end generation.\n",
      "Setting `pad_token_id` to `eos_token_id`:50256 for open-end generation.\n",
      "Setting `pad_token_id` to `eos_token_id`:50256 for open-end generation.\n",
      "Setting `pad_token_id` to `eos_token_id`:50256 for open-end generation.\n",
      "Setting `pad_token_id` to `eos_token_id`:50256 for open-end generation.\n",
      "Setting `pad_token_id` to `eos_token_id`:50256 for open-end generation.\n",
      "Setting `pad_token_id` to `eos_token_id`:50256 for open-end generation.\n",
      "Setting `pad_token_id` to `eos_token_id`:50256 for open-end generation.\n",
      "Setting `pad_token_id` to `eos_token_id`:50256 for open-end generation.\n",
      "Setting `pad_token_id` to `eos_token_id`:50256 for open-end generation.\n",
      "Setting `pad_token_id` to `eos_token_id`:50256 for open-end generation.\n",
      "Setting `pad_token_id` to `eos_token_id`:50256 for open-end generation.\n",
      "Setting `pad_token_id` to `eos_token_id`:50256 for open-end generation.\n",
      "Setting `pad_token_id` to `eos_token_id`:50256 for open-end generation.\n",
      "Setting `pad_token_id` to `eos_token_id`:50256 for open-end generation.\n",
      "Setting `pad_token_id` to `eos_token_id`:50256 for open-end generation.\n",
      "Setting `pad_token_id` to `eos_token_id`:50256 for open-end generation.\n",
      "Setting `pad_token_id` to `eos_token_id`:50256 for open-end generation.\n",
      "Setting `pad_token_id` to `eos_token_id`:50256 for open-end generation.\n",
      "Setting `pad_token_id` to `eos_token_id`:50256 for open-end generation.\n",
      "Setting `pad_token_id` to `eos_token_id`:50256 for open-end generation.\n",
      "Setting `pad_token_id` to `eos_token_id`:50256 for open-end generation.\n",
      "Setting `pad_token_id` to `eos_token_id`:50256 for open-end generation.\n",
      "Setting `pad_token_id` to `eos_token_id`:50256 for open-end generation.\n",
      "Setting `pad_token_id` to `eos_token_id`:50256 for open-end generation.\n",
      "Setting `pad_token_id` to `eos_token_id`:50256 for open-end generation.\n",
      "Setting `pad_token_id` to `eos_token_id`:50256 for open-end generation.\n",
      "Setting `pad_token_id` to `eos_token_id`:50256 for open-end generation.\n",
      "Setting `pad_token_id` to `eos_token_id`:50256 for open-end generation.\n",
      "Setting `pad_token_id` to `eos_token_id`:50256 for open-end generation.\n",
      "Setting `pad_token_id` to `eos_token_id`:50256 for open-end generation.\n",
      "Setting `pad_token_id` to `eos_token_id`:50256 for open-end generation.\n",
      "Setting `pad_token_id` to `eos_token_id`:50256 for open-end generation.\n",
      "Setting `pad_token_id` to `eos_token_id`:50256 for open-end generation.\n",
      "Setting `pad_token_id` to `eos_token_id`:50256 for open-end generation.\n",
      "Setting `pad_token_id` to `eos_token_id`:50256 for open-end generation.\n",
      "Setting `pad_token_id` to `eos_token_id`:50256 for open-end generation.\n",
      "Setting `pad_token_id` to `eos_token_id`:50256 for open-end generation.\n",
      "Setting `pad_token_id` to `eos_token_id`:50256 for open-end generation.\n",
      "Setting `pad_token_id` to `eos_token_id`:50256 for open-end generation.\n",
      "Setting `pad_token_id` to `eos_token_id`:50256 for open-end generation.\n",
      "Setting `pad_token_id` to `eos_token_id`:50256 for open-end generation.\n",
      "Setting `pad_token_id` to `eos_token_id`:50256 for open-end generation.\n",
      "Setting `pad_token_id` to `eos_token_id`:50256 for open-end generation.\n",
      "Setting `pad_token_id` to `eos_token_id`:50256 for open-end generation.\n",
      "Setting `pad_token_id` to `eos_token_id`:50256 for open-end generation.\n",
      "Setting `pad_token_id` to `eos_token_id`:50256 for open-end generation.\n"
     ]
    },
    {
     "name": "stderr",
     "output_type": "stream",
     "text": [
      "Setting `pad_token_id` to `eos_token_id`:50256 for open-end generation.\n",
      "Setting `pad_token_id` to `eos_token_id`:50256 for open-end generation.\n",
      "Setting `pad_token_id` to `eos_token_id`:50256 for open-end generation.\n",
      "Setting `pad_token_id` to `eos_token_id`:50256 for open-end generation.\n",
      "Setting `pad_token_id` to `eos_token_id`:50256 for open-end generation.\n",
      "Setting `pad_token_id` to `eos_token_id`:50256 for open-end generation.\n",
      "Setting `pad_token_id` to `eos_token_id`:50256 for open-end generation.\n",
      "Setting `pad_token_id` to `eos_token_id`:50256 for open-end generation.\n",
      "Setting `pad_token_id` to `eos_token_id`:50256 for open-end generation.\n",
      "Setting `pad_token_id` to `eos_token_id`:50256 for open-end generation.\n",
      "Setting `pad_token_id` to `eos_token_id`:50256 for open-end generation.\n",
      "Setting `pad_token_id` to `eos_token_id`:50256 for open-end generation.\n",
      "Setting `pad_token_id` to `eos_token_id`:50256 for open-end generation.\n",
      "Setting `pad_token_id` to `eos_token_id`:50256 for open-end generation.\n",
      "Setting `pad_token_id` to `eos_token_id`:50256 for open-end generation.\n",
      "Setting `pad_token_id` to `eos_token_id`:50256 for open-end generation.\n",
      "Setting `pad_token_id` to `eos_token_id`:50256 for open-end generation.\n",
      "Setting `pad_token_id` to `eos_token_id`:50256 for open-end generation.\n",
      "Setting `pad_token_id` to `eos_token_id`:50256 for open-end generation.\n",
      "Setting `pad_token_id` to `eos_token_id`:50256 for open-end generation.\n",
      "Setting `pad_token_id` to `eos_token_id`:50256 for open-end generation.\n",
      "Setting `pad_token_id` to `eos_token_id`:50256 for open-end generation.\n",
      "Setting `pad_token_id` to `eos_token_id`:50256 for open-end generation.\n",
      "Setting `pad_token_id` to `eos_token_id`:50256 for open-end generation.\n",
      "Setting `pad_token_id` to `eos_token_id`:50256 for open-end generation.\n",
      "Setting `pad_token_id` to `eos_token_id`:50256 for open-end generation.\n",
      "Setting `pad_token_id` to `eos_token_id`:50256 for open-end generation.\n",
      "Setting `pad_token_id` to `eos_token_id`:50256 for open-end generation.\n",
      "Setting `pad_token_id` to `eos_token_id`:50256 for open-end generation.\n",
      "Setting `pad_token_id` to `eos_token_id`:50256 for open-end generation.\n",
      "Setting `pad_token_id` to `eos_token_id`:50256 for open-end generation.\n",
      "Setting `pad_token_id` to `eos_token_id`:50256 for open-end generation.\n",
      "Setting `pad_token_id` to `eos_token_id`:50256 for open-end generation.\n",
      "Setting `pad_token_id` to `eos_token_id`:50256 for open-end generation.\n",
      "Setting `pad_token_id` to `eos_token_id`:50256 for open-end generation.\n",
      "Setting `pad_token_id` to `eos_token_id`:50256 for open-end generation.\n",
      "Setting `pad_token_id` to `eos_token_id`:50256 for open-end generation.\n",
      "Setting `pad_token_id` to `eos_token_id`:50256 for open-end generation.\n",
      "Setting `pad_token_id` to `eos_token_id`:50256 for open-end generation.\n",
      "Setting `pad_token_id` to `eos_token_id`:50256 for open-end generation.\n",
      "Setting `pad_token_id` to `eos_token_id`:50256 for open-end generation.\n",
      "Setting `pad_token_id` to `eos_token_id`:50256 for open-end generation.\n",
      "Setting `pad_token_id` to `eos_token_id`:50256 for open-end generation.\n",
      "Setting `pad_token_id` to `eos_token_id`:50256 for open-end generation.\n",
      "Setting `pad_token_id` to `eos_token_id`:50256 for open-end generation.\n",
      "Setting `pad_token_id` to `eos_token_id`:50256 for open-end generation.\n",
      "Setting `pad_token_id` to `eos_token_id`:50256 for open-end generation.\n",
      "Setting `pad_token_id` to `eos_token_id`:50256 for open-end generation.\n",
      "Setting `pad_token_id` to `eos_token_id`:50256 for open-end generation.\n",
      "Setting `pad_token_id` to `eos_token_id`:50256 for open-end generation.\n",
      "Setting `pad_token_id` to `eos_token_id`:50256 for open-end generation.\n",
      "Setting `pad_token_id` to `eos_token_id`:50256 for open-end generation.\n"
     ]
    }
   ],
   "source": [
    "use_pipeline = True\n",
    "\n",
    "text_inputs = []\n",
    "generated_plots = [] \n",
    "\n",
    "bar = tqdm(range(len(dataset)))\n",
    "\n",
    "for i in bar:\n",
    "    text_input = dataset[i]['text']\n",
    "    plot = pipeline_generate_text(text_input) if use_pipeline else generate_text(text_input)\n",
    "    text_inputs.append(text_input)\n",
    "    generated_plots.append(plot)\n",
    "\n",
    "result = pd.DataFrame({'input_text': text_inputs, 'generated_plot': generated_plots})\n",
    "result.to_csv('test_result.csv')"
   ]
  },
  {
   "cell_type": "code",
   "execution_count": 6,
   "id": "388edf7d",
   "metadata": {},
   "outputs": [
    {
     "name": "stdout",
     "output_type": "stream",
     "text": [
      " is a series of comic strips featuring a recurring series of misbehavior, violent accidents, and sometimes murder. While many adults have experienced violence during childhood and adolescence, these serial killers also occasionally use gang violence to their advantage. The protagonists of the series are in their teens and twenties, while others are in their teens and twenties.  July July 2009\n",
      "\n",
      "  is a married man, a married man, who is studying in a religious centre in Pune. During the marriage, he is approached by his stepfather, who refuses to consummate the marriage between his and his wife. This prompts her to give birth to a baby boy, Chandipathi. The infant boy is born in a hospital. He dies within days of birth. Chandipathi's parents are all widows. When the baby boy's parents go back and forth between the three families of his parents at night due to the sudden death of the child, they cannot give him any protection. During the same day, he is told to eat on the doorstep of his family member. The parents are also worried about him because he is a stranger at home. When the parents are out in public, Chandipathi meets an uncles named Rajam. They have given him a job, and he helps them manage the household money so that he can pay his rent. After they are all out with both them and Chandipathi, Rajam gives Chandipathi a job as a maid, which helps his work. ] May May May May May May May May May May May May May May May May May May May May May May May May May May May May May May May May May May May May May May May May May May May May May May May May May May May May May May May May May May May May May May May May May May May May May May May May May May May May May May May May May May May May May May May May May May May May May May May May May May May May May May\n",
      "\n",
      "  The first film of Annie Hall's story focuses on her mother's affair with a former classmate. She tells two of her friends that she loves them, but ultimately decides to leave her. As a result of the affair, Annie and her friends fall in love. \n",
      "\n",
      "  is an extremely dangerous drug abuser who finds himself on the verge of running over two friends with his fists in the air. He is followed out of town at night for his own execution and in a panic he shoots himself in the neck, killing his wife, who is still alive. He escapes, but is soon pursued by a group of thugs who threaten his family with a fatal blow if he doesn't repent. He escapes through a broken window before being killed by the thug leader, who had been waiting for him all this time, only to be turned back when the bullets are discharged.  May May 2011 July July July 2012 March May 37; a film set in Berlin; and a film set in Toronto. In a city with a large Jewish population, an American film actor named Mark Hamill, who is portrayed in the film, claims he is only a drug dealer who has never been in New York City, but in reality he is a drug dealer, or rather a drug dealer by nature. Most of the film is cut short and the character never appears, but the film has a special ending that is later shown during a television interview that starts with the film and then ends with a brief ending: \"We came into Israel because David and Goliath\" or the \"Godfather of the Land\" or the \"God King of the World\" or the \"Father of the West. Godfather's Land\" or the \"Godfather of the West. Godfather of the West\". The film ends with David and Goliath and a very different ending in which it's the film's story is revealed in the end: \"Hello, Godfather, Godfather of the West. It's a short film.\"\n",
      "\n",
      "  is a fictional drama based on the real life story of Robert Crumb, a former police officer, and his love affair with a prostitute in which she is given a false name. Crumb is described as a brilliant investigative journalist from the 1960s, and the character develops into a character that is as much a love story as it is a crime scene. It is not only the film that is a perfect replica of the real life Crumb lives with, but also comes with various other memorable elements throughout a typical scene of the film, such In 2009, Michael Caine was the victim of the film, Michael Caine's murder. He had taken his life years earlier, and had given it everything he could not get. After Michael's death, Robert Crumb is not only a successful detective, but also a good man. In the 1980s, Michael Caine had two films that included \"The Long Night\" and \"The New Jersey Wild.\" One film was the film The Big Short, starring James T. Kirk, and the other one is \"The New Jersey Wild\", starring James T. Kirk. In the movie, Michael was portrayed by Michael Caine rather than Chris Keel. In the first film, Michael suffers from the same symptoms that he has and has been experiencing since his first film, but has gradually recovered. He finds a doctor and attempts to use the \"New Jersey Wild\" film version of the story. In the movie, Michael returns to the world of film, after the murder of Robber Wargle. In the meantime, Robert continues to work for the FBI, investigating the murders of the other film suspects. On his suicide note, he tells his friend Michael that he is taking in another life as soon as he gets over the past.  May\n",
      "\n",
      "  is a middle aged married mother seeking her third child. She is married and lives with her boyfriend-a waitress  and a boy. She is a poor girl in her junior high school when her life spirates, with her parents fleeing her home. In pursuit, they fall for  and her mother. Meanwhile her parents struggle to adjust to their new life that they have been living. She is soon reunited with her parents and their other siblings. She then goes to work in a coffee shop for the night. While sleeping, a mysterious stranger comes to her room, making him believe that his friend is her uncle  and he's not real. In reality, their lives are nothing but good, but they find themselves trying to hide themselves from the stranger in order to leave a lasting legacy, which would eventually include more money and better jobs. Meanwhile, her mother asks Elsa to accompany her in the journey, which she does not dare since it has already caused  to become a lot more uncomfortable for her. Meanwhile Elsa's parents are distracted by their troubles surrounding the loss of their son, who still lives in the family home and is in need of help. At the beginning of the film, Anna appears ready to leave, but her mother  appears to hide her. As the film progresses, Anna leaves her place with Anna, and stops at her sister's house for tea. As she leaves, the parents hear, not only are rumors about her son  wrong, but they are also told of a child's suicide. One hour passes, and while Anna is waiting on the train in the railway station, she hears an attack in her childhood where she is killed by a drunk and drunk-kid gang. Elsa and her mother are forced to abandon their relationship with Anna, but later Anna tells the other two to step up. They go after the same person they did with Elsa a month after her sister's death, but he falls into a psychotic state and starts haunting her. Anna, on the other hand, is not afraid of going to church, and is determined to go to church. She is horrified when her mother tries to persuade her, and she and her mother are forced to stop drinking and drinking. Despite their efforts, their life has become very confusing, and even worse, Anna does not know what it is she is drinking at and she continues to drink. As the events of the film progress, Anna's mother becomes more bitter when her child grows up and threatens to kill her mother\n",
      "\n",
      "   is a short film by the author of The Way of Time. His daughter, Jessica, who had just graduated college, reads and writes of her father with a high degree of irony. The film begins on a beautiful Sunday in June when Jessica and Bill meet Dr. John Cerraro, the director of the aging tuberculosis research institute near the campus of the University of Michigan at Ann Arbor. \n",
      "\n",
      "  The soundtrack to Bob Dylan's hit film Catman  is written on a piano and has five piano parts, one piano piece of the orchestra and a pianette. All the piano parts are arranged in a sequence using the Piano Piano-O-Matic to move songs by a musical instrument to the right. In order to read the piano parts in their proper order, the songs come together in a succession and the piano piano parts are arranged in a piano. The song continues in a sequence using the Piano-O Matic to read and play the notes. At times, the piano parts come together to play a part and the sound of the piano part fades out as if it were in a recording recording. As in the film, the piano parts are played like regular jazz instruments except for the piano part. It is a matter of understanding that the piano parts are not simply rearranged. Their purpose is to play to the right or left and their effect on the music is to evoke feelings of excitement and amusement. Bob Dylan is also playing it as a piano. The piano parts are the beginning of a sequence consisting of three pieces of the piano part that are then played again. A few piano parts occur as the part changes to change. The sequence ends with no changes except for the piano part.  June D 37 36 35 36 35 35 34 33 33 32 31 31 30 29 29 22 22 21 10 9 8 7 6 5 5 3 2 1 — The Hollywood Reporter  Pictures June Michael Bambiis, Michael Bambiis, Michael Bambiis, Michael Bambiis, Michelle Bambiis, Michelle Bambiis, and Michelle Bambiis are the two most popular characters in this film, and their performances are mainly due to the fact that they are both playing the piano of the same\n",
      "\n",
      "  and her husband David, who is a professional soccer player, have just gotten married and plan to have their first child.  However, they are a bit far from the normal world. They might be a little more serious, but they're not the normal life, like they're just ordinary people, and are pretty much the only people in their class. They were last seen in an episode of The Grudge, which was originally written by Tetsuya Yamashita. When they first meet, they talk to the protagonist, Riko, but then they're interrupted by a message from a message from Tetsuya, who is working at a museum. They talk to the protagonist, but they're interrupted by a message from a message from his former colleague, Riko. Their first appearance was a bit of a joke, but it was mostly just to\n",
      "\n",
      "   The film focuses on Nick Chygax, a young black woman whose career ends without her having the chance to marry her white fiancé or find an adoptive home. Her husband, Sam, is a white man, and Sam is a lawyer. Sam's experience in law and policy has made him increasingly uneasy with his white, law-abiding neighbors. After his partner dies, Sam feels compelled to learn more about his own history and to move to a less urban setting. He enrolls in a university program in which he is exposed to more white men and women at the highest levels, but is denied entry because of his color. Meanwhile, a white man arrives at his doorstep, intent on committing murder with his gun. He does not know when he will succeed. When Nick meets Sam, he is convinced that their relationship has been shattered. He starts planning to move into a newlywed house, a place he feels comfortable in in the process but feels unneeded, as he wants to remain under normal society. The couple begins dating in high school, when Nick decides that he will leave his wife of four years behind him in order to raise a family.  June May, 1968. Video]))] The Island of the Apes\"\n",
      "\n",
      "\n"
     ]
    }
   ],
   "source": [
    "print(*[plot + '\\n\\n' for plot in result['generated_plot']])"
   ]
  },
  {
   "cell_type": "code",
   "execution_count": null,
   "id": "817e7876",
   "metadata": {},
   "outputs": [],
   "source": []
  }
 ],
 "metadata": {
  "kernelspec": {
   "display_name": "Python 3 (ipykernel)",
   "language": "python",
   "name": "python3"
  },
  "language_info": {
   "codemirror_mode": {
    "name": "ipython",
    "version": 3
   },
   "file_extension": ".py",
   "mimetype": "text/x-python",
   "name": "python",
   "nbconvert_exporter": "python",
   "pygments_lexer": "ipython3",
   "version": "3.8.12"
  }
 },
 "nbformat": 4,
 "nbformat_minor": 5
}
