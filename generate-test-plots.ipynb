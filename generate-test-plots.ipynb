{
 "cells": [
  {
   "cell_type": "markdown",
   "id": "0cba8935",
   "metadata": {},
   "source": [
    "# START\n"
   ]
  },
  {
   "cell_type": "code",
   "execution_count": 2,
   "id": "a559a305",
   "metadata": {
    "scrolled": true
   },
   "outputs": [],
   "source": [
    "import math\n",
    "import re\n",
    "import pickle\n",
    "import pandas as pd\n",
    "import matplotlib.pyplot as plt\n",
    "from tqdm.auto import tqdm\n",
    "\n",
    "import torch\n",
    "from datasets import load_dataset\n",
    "from transformers import (\n",
    "    TrainerCallback,\n",
    "    GPT2Config,\n",
    "    GPT2Tokenizer,\n",
    "    GPT2LMHeadModel,\n",
    "    AutoConfig,\n",
    "    AutoTokenizer,\n",
    "    AutoModelForCausalLM,\n",
    "    pipeline,\n",
    "    AdamW,\n",
    "    TrainingArguments,\n",
    "    Trainer,\n",
    ")"
   ]
  },
  {
   "cell_type": "code",
   "execution_count": 5,
   "id": "82b4830d",
   "metadata": {},
   "outputs": [
    {
     "data": {
      "application/vnd.jupyter.widget-view+json": {
       "model_id": "b2145b11efe0412483581a80912aff03",
       "version_major": 2,
       "version_minor": 0
      },
      "text/plain": [
       "Downloading:   0%|          | 0.00/666 [00:00<?, ?B/s]"
      ]
     },
     "metadata": {},
     "output_type": "display_data"
    },
    {
     "data": {
      "application/vnd.jupyter.widget-view+json": {
       "model_id": "101b0d2b771e44aba70c703aba8da9a2",
       "version_major": 2,
       "version_minor": 0
      },
      "text/plain": [
       "Downloading:   0%|          | 0.00/26.0 [00:00<?, ?B/s]"
      ]
     },
     "metadata": {},
     "output_type": "display_data"
    },
    {
     "data": {
      "application/vnd.jupyter.widget-view+json": {
       "model_id": "57b718ac26ce438c9ca88d3dacf585ba",
       "version_major": 2,
       "version_minor": 0
      },
      "text/plain": [
       "Downloading:   0%|          | 0.00/878k [00:00<?, ?B/s]"
      ]
     },
     "metadata": {},
     "output_type": "display_data"
    },
    {
     "data": {
      "application/vnd.jupyter.widget-view+json": {
       "model_id": "0a73e5f298294d429b11c7a6a0d07936",
       "version_major": 2,
       "version_minor": 0
      },
      "text/plain": [
       "Downloading:   0%|          | 0.00/446k [00:00<?, ?B/s]"
      ]
     },
     "metadata": {},
     "output_type": "display_data"
    },
    {
     "data": {
      "application/vnd.jupyter.widget-view+json": {
       "model_id": "324e9d53a00546e5b79530fd49ddd3e7",
       "version_major": 2,
       "version_minor": 0
      },
      "text/plain": [
       "Downloading:   0%|          | 0.00/90.0 [00:00<?, ?B/s]"
      ]
     },
     "metadata": {},
     "output_type": "display_data"
    },
    {
     "data": {
      "application/vnd.jupyter.widget-view+json": {
       "model_id": "c77e8188bbe84ca1acc43c0bb00bb7fd",
       "version_major": 2,
       "version_minor": 0
      },
      "text/plain": [
       "Downloading:   0%|          | 0.00/487M [00:00<?, ?B/s]"
      ]
     },
     "metadata": {},
     "output_type": "display_data"
    }
   ],
   "source": [
    "# Load pretrained tokenizer and model\n",
    "finetuned_model_name = 'pranavpsv/gpt2-story-gen'\n",
    "config=AutoConfig.from_pretrained(finetuned_model_name)\n",
    "tokenizer = AutoTokenizer.from_pretrained(finetuned_model_name)\n",
    "model = AutoModelForCausalLM.from_pretrained(finetuned_model_name, config=config)"
   ]
  },
  {
   "cell_type": "code",
   "execution_count": 6,
   "id": "9e16326c",
   "metadata": {
    "scrolled": true
   },
   "outputs": [
    {
     "name": "stderr",
     "output_type": "stream",
     "text": [
      "Setting `pad_token_id` to `eos_token_id`:50256 for open-end generation.\n"
     ]
    },
    {
     "name": "stdout",
     "output_type": "stream",
     "text": [
      "<BOS> <action> Shrek in the swamp <SEP> He was in the urn that day. He is still alive. When he is on his way to rescue him, he leaves the urn behind, telling everyone to go where they take him. As they are leaving, they are attacked by BOS, who is having some fun with his friends. Back at the hotel, Doraemon, the maid, is being taken hostage by BOS and is trying to make out with him. Suddenly he realizes he is in the urn. At that moment, BOS appears in front of the hotel to attack her with guns and the group takes shelter in a hotel room for a time. BOS takes the elevator to the top floor, where he and the others are waiting for him.\n",
      "They climb into the elevator and run into a woman, who turns out to be BEST (Forbidden Love Triangle). She tells them that her fiancé Ritsuko\n",
      "\n",
      "\n",
      "------------------------\n",
      " <BOS> <action> Shrek in the swamp <SEP> He was in the urn. It's his destiny that he'll meet his dad and ask him for a good ol' handjob. But his dad wants him to take him across the border and they'll get the job themselves, just like they did with Shrek. That may be the only time he'll be able to be in a position of honor.\n",
      "But, before that, Cinderella’s father decides to ask for his daughter's hand-jobs. Cinderella's dad’s father will also send him a letter stating that he’s not going so far as proposing and will take out all of his responsibility as the caretaker and employee of the house. In exchange for the urn his dad also wants to help Cinderella win her dream job.\n",
      "So Cinderella’s dad asks her to go into his room and dress her up like a princess and have sex the next day with\n",
      "\n",
      "\n",
      "------------------------\n",
      "\n"
     ]
    }
   ],
   "source": [
    "generator = pipeline(\"text-generation\", model=model, tokenizer=tokenizer)\n",
    "stories = generator(\"<BOS> <action> Shrek in the swamp <SEP> He was in the \", max_length=200, num_return_sequences=2)\n",
    "print(*[story['generated_text'] + \"\\n\\n\\n------------------------\\n\" for story in stories])"
   ]
  },
  {
   "cell_type": "markdown",
   "id": "e8d54c69",
   "metadata": {},
   "source": [
    "# Load test data"
   ]
  },
  {
   "cell_type": "code",
   "execution_count": 98,
   "id": "c379c5e7",
   "metadata": {
    "scrolled": true
   },
   "outputs": [
    {
     "name": "stderr",
     "output_type": "stream",
     "text": [
      "Using custom data configuration default-7e85f0f498f7a3fa\n",
      "Reusing dataset text (/Users/antonclaesson/.cache/huggingface/datasets/text/default-7e85f0f498f7a3fa/0.0.0/e16f44aa1b321ece1f87b07977cc5d70be93d69b20486d6dacd62e12cf25c9a5)\n"
     ]
    },
    {
     "data": {
      "application/vnd.jupyter.widget-view+json": {
       "model_id": "0b6dd4054dce4ceda329c3b84d531512",
       "version_major": 2,
       "version_minor": 0
      },
      "text/plain": [
       "  0%|          | 0/1 [00:00<?, ?it/s]"
      ]
     },
     "metadata": {},
     "output_type": "display_data"
    },
    {
     "data": {
      "text/plain": [
       "Dataset({\n",
       "    features: ['text'],\n",
       "    num_rows: 1000\n",
       "})"
      ]
     },
     "execution_count": 98,
     "metadata": {},
     "output_type": "execute_result"
    }
   ],
   "source": [
    "# Load dataset from text file called \"data.txt\" and split into train/val\n",
    "datasets = load_dataset(\"text\", data_files=\"test.txt\")\n",
    "datasets['test'] = datasets.pop('train')\n",
    "test_dataset = datasets['test']\n",
    "del datasets\n",
    "test_dataset"
   ]
  },
  {
   "cell_type": "code",
   "execution_count": 47,
   "id": "490cccae",
   "metadata": {
    "scrolled": false
   },
   "outputs": [
    {
     "name": "stdout",
     "output_type": "stream",
     "text": [
      "<BOS> <drama> <romantic drama> <romance film> <action> Days of Thunder <SEP> \n",
      " <BOS> <romance film> Krishnagudiyil Oru Pranayakalathu <SEP> \n",
      " <BOS> <drama> <comedy> <romance film> Annie Hall <SEP> \n",
      " <BOS> <romance film> <comedy> <indie> Mighty Aphrodite <SEP> \n",
      " <BOS> <thriller> <crime fiction> Phone Booth <SEP> \n",
      " <BOS> <romantic drama> <romance film> <drama> Anna Lucasta <SEP> \n",
      " <BOS> <drama> <comedy> Meet Me Tonight <SEP> \n",
      " <BOS> <thriller> <short film> The Cat Piano <SEP> \n",
      " <BOS> <short film> <family film> Hare-Abian Nights <SEP> \n",
      " <BOS> <drama> Distant Thunder <SEP> \n",
      "\n"
     ]
    }
   ],
   "source": [
    "# Example\n",
    "print(*[dataset[i]['text'] + '\\n' for i in range(10)])"
   ]
  },
  {
   "cell_type": "code",
   "execution_count": 101,
   "id": "beafaf5e",
   "metadata": {},
   "outputs": [
    {
     "name": "stderr",
     "output_type": "stream",
     "text": [
      "Setting `pad_token_id` to `eos_token_id`:50256 for open-end generation.\n",
      "Setting `pad_token_id` to `eos_token_id`:50256 for open-end generation.\n"
     ]
    },
    {
     "name": "stdout",
     "output_type": "stream",
     "text": [
      "['<BOS> <drama> <romantic drama> <romance film> <action> Days of Thunder <SEP> ', '<BOS> <romance film> Krishnagudiyil Oru Pranayakalathu <SEP> ']\n",
      "['介阿 冐制語\\nThe film opens in 1980s Seoul with the gang fighting gangs and trying to survive in an urban environment. As the four gangs enter a cafe, they are ambushed by a gangster.', '������������������������������ࠂ) (4\\xa0) (1.) a famous dancer from a poor family on the path']\n"
     ]
    }
   ],
   "source": [
    "import re\n",
    "\n",
    "text_inputs = []\n",
    "generated_plots = [] \n",
    "\n",
    "for i in range(2): #range(len(dataset)):\n",
    "    text_input = dataset[i]['text']\n",
    "    result = generator(text_input, max_length=80, num_return_sequences=1, device=0)[0]['generated_text']\n",
    "    plot = re.sub(text_input,'',result)\n",
    "\n",
    "    text_inputs.append(text_input)\n",
    "    generated_plots.append(plot)\n",
    "\n",
    "print(text_inputs)\n",
    "print(generated_plots)\n",
    "    "
   ]
  },
  {
   "cell_type": "code",
   "execution_count": null,
   "id": "5c7b573f",
   "metadata": {},
   "outputs": [],
   "source": []
  }
 ],
 "metadata": {
  "kernelspec": {
   "display_name": "Python 3",
   "language": "python",
   "name": "python3"
  },
  "language_info": {
   "codemirror_mode": {
    "name": "ipython",
    "version": 3
   },
   "file_extension": ".py",
   "mimetype": "text/x-python",
   "name": "python",
   "nbconvert_exporter": "python",
   "pygments_lexer": "ipython3",
   "version": "3.8.8"
  }
 },
 "nbformat": 4,
 "nbformat_minor": 5
}
