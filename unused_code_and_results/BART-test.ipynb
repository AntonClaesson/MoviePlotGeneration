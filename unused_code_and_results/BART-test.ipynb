{
 "cells": [
  {
   "cell_type": "markdown",
   "id": "0cba8935",
   "metadata": {},
   "source": [
    "# START\n"
   ]
  },
  {
   "cell_type": "code",
   "execution_count": 1,
   "id": "a559a305",
   "metadata": {
    "scrolled": true
   },
   "outputs": [],
   "source": [
    "import math\n",
    "import re\n",
    "import pickle\n",
    "import pandas as pd\n",
    "import matplotlib.pyplot as plt\n",
    "from tqdm.auto import tqdm\n",
    "\n",
    "import torch\n",
    "from datasets import load_dataset\n",
    "from transformers import (\n",
    "    TrainerCallback,\n",
    "    GPT2Config,\n",
    "    GPT2Tokenizer,\n",
    "    GPT2LMHeadModel,\n",
    "    AutoConfig,\n",
    "    AutoTokenizer,\n",
    "    AutoModelForCausalLM,\n",
    "    pipeline,\n",
    "    AdamW,\n",
    "    TrainingArguments,\n",
    "    Trainer,\n",
    ")"
   ]
  },
  {
   "cell_type": "code",
   "execution_count": null,
   "id": "82b4830d",
   "metadata": {},
   "outputs": [],
   "source": [
    "# Load pretrained tokenizer and model\n",
    "from transformers import BartTokenizerFast, BartModel, pipeline, BartForConditionalGeneration, BartForCausalLM\n",
    "\n",
    "tokenizer = BartTokenizerFast.from_pretrained('BART-movie-plot-generator')\n",
    "model = BartForConditionalGeneration.from_pretrained('./BART-movie-plot-generator/checkpoint-12500')\n",
    "generator = pipeline(\"text-generation\", model=model, tokenizer=tokenizer, device=0)\n",
    "\n",
    "device = torch.device('cuda' if torch.cuda.is_available() else 'cpu')\n",
    "model=model.to(device)"
   ]
  },
  {
   "cell_type": "code",
   "execution_count": null,
   "id": "f2293234",
   "metadata": {},
   "outputs": [],
   "source": [
    "txt = \"<s> <action> The lost village <\\s>\"\n",
    "input_ids = tokenizer.encode(txt, return_tensors='pt')\n",
    "input_ids=input_ids.to(device)\n",
    "    \n",
    "#Generate text with top-k nucleus sampling\n",
    "sample_output = model.generate(\n",
    "    input_ids,\n",
    "    do_sample=True, \n",
    "    max_length=512, \n",
    "    top_k=50, \n",
    "    top_p=0.95, \n",
    "    num_return_sequences=1,\n",
    "    bos_token_id=tokenizer.bos_token_id,\n",
    "    pad_token_id=tokenizer.pad_token_id,\n",
    "    sep_token_id=tokenizer.sep_token_id,\n",
    "    eos_token_id=tokenizer.eos_token_id,\n",
    "    device=0\n",
    ")[0]\n",
    "print(tokenizer.decode(sample_output, skip_special_tokens=False))"
   ]
  },
  {
   "cell_type": "code",
   "execution_count": null,
   "id": "9e16326c",
   "metadata": {
    "scrolled": true
   },
   "outputs": [],
   "source": [
    "stories = generator(\"<s> <action> The lost village <\\s> Was once a large\", max_length=512, num_return_sequences=1)\n",
    "print(*[story['generated_text'] + \"\\n\\n\\n------------------------\\n\" for story in stories])"
   ]
  }
 ],
 "metadata": {
  "kernelspec": {
   "display_name": "Python 3 (ipykernel)",
   "language": "python",
   "name": "python3"
  },
  "language_info": {
   "codemirror_mode": {
    "name": "ipython",
    "version": 3
   },
   "file_extension": ".py",
   "mimetype": "text/x-python",
   "name": "python",
   "nbconvert_exporter": "python",
   "pygments_lexer": "ipython3",
   "version": "3.8.12"
  }
 },
 "nbformat": 4,
 "nbformat_minor": 5
}
